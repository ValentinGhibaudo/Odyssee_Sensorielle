{
 "cells": [
  {
   "cell_type": "code",
   "execution_count": 1,
   "id": "149a2189-a70d-4fcd-bf58-fc2e9c2b21b0",
   "metadata": {
    "tags": []
   },
   "outputs": [],
   "source": [
    "%load_ext autoreload\n",
    "%autoreload 2"
   ]
  },
  {
   "cell_type": "code",
   "execution_count": 2,
   "id": "927d9a70-d5dc-4d35-b325-3a62a2a0f3de",
   "metadata": {
    "tags": []
   },
   "outputs": [],
   "source": [
    "import numpy as np\n",
    "import pandas as pd\n",
    "import seaborn as sns\n",
    "import pingouin as pg\n",
    "from stats_tools import auto_stats\n",
    "import matplotlib.pyplot as plt\n",
    "from params import *\n",
    "import ghibtools as gh"
   ]
  },
  {
   "cell_type": "markdown",
   "id": "367df0af-71ba-4823-ab61-921888e0200e",
   "metadata": {},
   "source": [
    "## PARAMS"
   ]
  },
  {
   "cell_type": "code",
   "execution_count": 3,
   "id": "da1a542f-53f2-4061-bcad-f98b8957ddda",
   "metadata": {
    "tags": []
   },
   "outputs": [],
   "source": [
    "ecg_interesting_metrics = ['HRV_MeanNN', 'HRV_SDNN', 'HRV_RMSSD', 'HRV_pNN50', 'HRV_pNN20', 'HRV_LF', 'HRV_HF', 'HRV_LFHF']\n",
    "ppg_interesting_metrics = ['mean amplitude', 'HRV_SDNN', 'HRV_RMSSD', 'HRV_pNN50', 'HRV_pNN20']\n",
    "eda_interesting_metrics = ['nb_peaks', 'mean_height', 'EDA_Symp', 'EDA_SympN']"
   ]
  },
  {
   "cell_type": "code",
   "execution_count": 4,
   "id": "2d5e2b61-88e5-4010-8472-f10539e3613c",
   "metadata": {},
   "outputs": [],
   "source": [
    "indexes = ['participant','quality','room']"
   ]
  },
  {
   "cell_type": "code",
   "execution_count": 5,
   "id": "7b615490-db13-4194-b693-2bb279bb34c9",
   "metadata": {
    "tags": []
   },
   "outputs": [],
   "source": [
    "outcomes = {\n",
    "    'eeg':['Hz_30_80', 'Hz_13_30', 'Hz_8_13', 'Hz_4_8', 'Hz_1_4'],\n",
    "    'ppg': ppg_interesting_metrics,\n",
    "    'ecg': ecg_interesting_metrics,\n",
    "    'eda': eda_interesting_metrics\n",
    "}"
   ]
  },
  {
   "cell_type": "code",
   "execution_count": 6,
   "id": "466992cf-cbee-48a7-bb70-482700dc8aaf",
   "metadata": {
    "tags": []
   },
   "outputs": [],
   "source": [
    "predictor = 'room'\n",
    "subject = 'participant'"
   ]
  },
  {
   "cell_type": "code",
   "execution_count": 7,
   "id": "359b0a2d-b3e1-48b2-abcf-32f77e24376d",
   "metadata": {
    "tags": []
   },
   "outputs": [],
   "source": [
    "savefig = False"
   ]
  },
  {
   "cell_type": "markdown",
   "id": "616ad700-df5f-444d-932a-3a3edf9e90b6",
   "metadata": {},
   "source": [
    "## TOOLS"
   ]
  },
  {
   "cell_type": "code",
   "execution_count": 8,
   "id": "ffe22ee5-0609-491e-aa07-58406cf3b660",
   "metadata": {
    "tags": []
   },
   "outputs": [],
   "source": [
    "def load(biosig, filter_quality=True):\n",
    "    df = pd.read_excel(f'../metrics/{biosig}_metrics.xlsx').drop(columns = 'Unnamed: 0')\n",
    "\n",
    "    if filter_quality:\n",
    "        if biosig == 'ecg':\n",
    "            df_return = df[df['quality'] == 2]\n",
    "        else:\n",
    "            df_return = df[df['quality'] >= 1]\n",
    "    else:\n",
    "        df_return = df\n",
    "        \n",
    "    return df_return.dropna(axis = 'columns')"
   ]
  },
  {
   "cell_type": "markdown",
   "id": "f7f83929-ee7c-4057-a28d-7ea04f493139",
   "metadata": {},
   "source": [
    "## GO"
   ]
  },
  {
   "cell_type": "markdown",
   "id": "9f0abf39",
   "metadata": {},
   "source": [
    "- Stastical interactions between metrics"
   ]
  },
  {
   "cell_type": "code",
   "execution_count": 9,
   "id": "2ccef469",
   "metadata": {},
   "outputs": [],
   "source": [
    "all_metrics = pd.concat([load(biosig).set_index(indexes) for biosig in ['eeg','ecg','eda']], axis = 1)"
   ]
  },
  {
   "cell_type": "code",
   "execution_count": 10,
   "id": "5da431f4",
   "metadata": {},
   "outputs": [
    {
     "data": {
      "text/plain": [
       "<AxesSubplot:>"
      ]
     },
     "execution_count": 10,
     "metadata": {},
     "output_type": "execute_result"
    },
    {
     "data": {
      "image/png": "[encoded data removed]",
      "text/plain": [
       "<Figure size 432x288 with 2 Axes>"
      ]
     },
     "metadata": {
      "needs_background": "light"
     },
     "output_type": "display_data"
    }
   ],
   "source": [
    "sns.heatmap(all_metrics.corr('spearman'))"
   ]
  },
  {
   "cell_type": "code",
   "execution_count": 15,
   "id": "29fdf6f2",
   "metadata": {},
   "outputs": [
    {
     "data": {
      "text/html": [
       "<div>\n",
       "<style scoped>\n",
       "    .dataframe tbody tr th:only-of-type {\n",
       "        vertical-align: middle;\n",
       "    }\n",
       "\n",
       "    .dataframe tbody tr th {\n",
       "        vertical-align: top;\n",
       "    }\n",
       "\n",
       "    .dataframe thead th {\n",
       "        text-align: right;\n",
       "    }\n",
       "</style>\n",
       "<table border=\"1\" class=\"dataframe\">\n",
       "  <thead>\n",
       "    <tr style=\"text-align: right;\">\n",
       "      <th></th>\n",
       "      <th>Hz_30_80</th>\n",
       "      <th>Hz_13_30</th>\n",
       "      <th>Hz_8_13</th>\n",
       "      <th>Hz_4_8</th>\n",
       "      <th>Hz_1_4</th>\n",
       "      <th>HRV_MeanNN</th>\n",
       "      <th>HRV_SDNN</th>\n",
       "      <th>HRV_RMSSD</th>\n",
       "      <th>HRV_pNN50</th>\n",
       "      <th>HRV_pNN20</th>\n",
       "      <th>HRV_LF</th>\n",
       "      <th>HRV_HF</th>\n",
       "      <th>HRV_LFHF</th>\n",
       "      <th>nb_peaks</th>\n",
       "      <th>mean_height</th>\n",
       "      <th>EDA_Symp</th>\n",
       "      <th>EDA_SympN</th>\n",
       "    </tr>\n",
       "  </thead>\n",
       "  <tbody>\n",
       "    <tr>\n",
       "      <th>Hz_30_80</th>\n",
       "      <td>-</td>\n",
       "      <td>***</td>\n",
       "      <td>***</td>\n",
       "      <td>***</td>\n",
       "      <td>***</td>\n",
       "      <td>*</td>\n",
       "      <td></td>\n",
       "      <td></td>\n",
       "      <td>*</td>\n",
       "      <td>*</td>\n",
       "      <td></td>\n",
       "      <td></td>\n",
       "      <td></td>\n",
       "      <td></td>\n",
       "      <td></td>\n",
       "      <td></td>\n",
       "      <td></td>\n",
       "    </tr>\n",
       "    <tr>\n",
       "      <th>Hz_13_30</th>\n",
       "      <td>0.929</td>\n",
       "      <td>-</td>\n",
       "      <td>***</td>\n",
       "      <td>***</td>\n",
       "      <td>***</td>\n",
       "      <td>*</td>\n",
       "      <td>*</td>\n",
       "      <td>*</td>\n",
       "      <td>**</td>\n",
       "      <td>*</td>\n",
       "      <td></td>\n",
       "      <td></td>\n",
       "      <td></td>\n",
       "      <td></td>\n",
       "      <td></td>\n",
       "      <td></td>\n",
       "      <td></td>\n",
       "    </tr>\n",
       "    <tr>\n",
       "      <th>Hz_8_13</th>\n",
       "      <td>0.49</td>\n",
       "      <td>0.65</td>\n",
       "      <td>-</td>\n",
       "      <td>***</td>\n",
       "      <td>***</td>\n",
       "      <td>*</td>\n",
       "      <td>*</td>\n",
       "      <td>*</td>\n",
       "      <td>**</td>\n",
       "      <td>*</td>\n",
       "      <td></td>\n",
       "      <td></td>\n",
       "      <td></td>\n",
       "      <td>*</td>\n",
       "      <td></td>\n",
       "      <td></td>\n",
       "      <td></td>\n",
       "    </tr>\n",
       "    <tr>\n",
       "      <th>Hz_4_8</th>\n",
       "      <td>0.402</td>\n",
       "      <td>0.554</td>\n",
       "      <td>0.96</td>\n",
       "      <td>-</td>\n",
       "      <td>***</td>\n",
       "      <td>*</td>\n",
       "      <td>*</td>\n",
       "      <td>*</td>\n",
       "      <td>*</td>\n",
       "      <td>*</td>\n",
       "      <td></td>\n",
       "      <td></td>\n",
       "      <td></td>\n",
       "      <td>*</td>\n",
       "      <td></td>\n",
       "      <td></td>\n",
       "      <td></td>\n",
       "    </tr>\n",
       "    <tr>\n",
       "      <th>Hz_1_4</th>\n",
       "      <td>0.362</td>\n",
       "      <td>0.489</td>\n",
       "      <td>0.857</td>\n",
       "      <td>0.925</td>\n",
       "      <td>-</td>\n",
       "      <td></td>\n",
       "      <td></td>\n",
       "      <td></td>\n",
       "      <td></td>\n",
       "      <td></td>\n",
       "      <td></td>\n",
       "      <td></td>\n",
       "      <td></td>\n",
       "      <td>*</td>\n",
       "      <td></td>\n",
       "      <td></td>\n",
       "      <td></td>\n",
       "    </tr>\n",
       "    <tr>\n",
       "      <th>HRV_MeanNN</th>\n",
       "      <td>-0.439</td>\n",
       "      <td>-0.447</td>\n",
       "      <td>-0.47</td>\n",
       "      <td>-0.453</td>\n",
       "      <td>-0.095</td>\n",
       "      <td>-</td>\n",
       "      <td>***</td>\n",
       "      <td>***</td>\n",
       "      <td>***</td>\n",
       "      <td>***</td>\n",
       "      <td></td>\n",
       "      <td>**</td>\n",
       "      <td>***</td>\n",
       "      <td>*</td>\n",
       "      <td></td>\n",
       "      <td></td>\n",
       "      <td>*</td>\n",
       "    </tr>\n",
       "    <tr>\n",
       "      <th>HRV_SDNN</th>\n",
       "      <td>-0.372</td>\n",
       "      <td>-0.474</td>\n",
       "      <td>-0.471</td>\n",
       "      <td>-0.48</td>\n",
       "      <td>-0.027</td>\n",
       "      <td>0.627</td>\n",
       "      <td>-</td>\n",
       "      <td>***</td>\n",
       "      <td>***</td>\n",
       "      <td>***</td>\n",
       "      <td></td>\n",
       "      <td>**</td>\n",
       "      <td>***</td>\n",
       "      <td>**</td>\n",
       "      <td>*</td>\n",
       "      <td></td>\n",
       "      <td></td>\n",
       "    </tr>\n",
       "    <tr>\n",
       "      <th>HRV_RMSSD</th>\n",
       "      <td>-0.359</td>\n",
       "      <td>-0.463</td>\n",
       "      <td>-0.439</td>\n",
       "      <td>-0.422</td>\n",
       "      <td>-0.038</td>\n",
       "      <td>0.643</td>\n",
       "      <td>0.904</td>\n",
       "      <td>-</td>\n",
       "      <td>***</td>\n",
       "      <td>***</td>\n",
       "      <td></td>\n",
       "      <td>***</td>\n",
       "      <td>***</td>\n",
       "      <td>***</td>\n",
       "      <td></td>\n",
       "      <td></td>\n",
       "      <td></td>\n",
       "    </tr>\n",
       "    <tr>\n",
       "      <th>HRV_pNN50</th>\n",
       "      <td>-0.431</td>\n",
       "      <td>-0.502</td>\n",
       "      <td>-0.512</td>\n",
       "      <td>-0.48</td>\n",
       "      <td>-0.088</td>\n",
       "      <td>0.747</td>\n",
       "      <td>0.82</td>\n",
       "      <td>0.901</td>\n",
       "      <td>-</td>\n",
       "      <td>***</td>\n",
       "      <td>*</td>\n",
       "      <td>***</td>\n",
       "      <td>***</td>\n",
       "      <td>***</td>\n",
       "      <td></td>\n",
       "      <td></td>\n",
       "      <td>*</td>\n",
       "    </tr>\n",
       "    <tr>\n",
       "      <th>HRV_pNN20</th>\n",
       "      <td>-0.417</td>\n",
       "      <td>-0.456</td>\n",
       "      <td>-0.451</td>\n",
       "      <td>-0.438</td>\n",
       "      <td>-0.087</td>\n",
       "      <td>0.83</td>\n",
       "      <td>0.748</td>\n",
       "      <td>0.827</td>\n",
       "      <td>0.934</td>\n",
       "      <td>-</td>\n",
       "      <td>*</td>\n",
       "      <td>***</td>\n",
       "      <td>***</td>\n",
       "      <td>**</td>\n",
       "      <td></td>\n",
       "      <td></td>\n",
       "      <td></td>\n",
       "    </tr>\n",
       "    <tr>\n",
       "      <th>HRV_LF</th>\n",
       "      <td>-0.01</td>\n",
       "      <td>-0.027</td>\n",
       "      <td>-0.003</td>\n",
       "      <td>-0.054</td>\n",
       "      <td>-0.134</td>\n",
       "      <td>0.094</td>\n",
       "      <td>-0.017</td>\n",
       "      <td>0.14</td>\n",
       "      <td>0.183</td>\n",
       "      <td>0.21</td>\n",
       "      <td>-</td>\n",
       "      <td>***</td>\n",
       "      <td></td>\n",
       "      <td></td>\n",
       "      <td></td>\n",
       "      <td></td>\n",
       "      <td></td>\n",
       "    </tr>\n",
       "    <tr>\n",
       "      <th>HRV_HF</th>\n",
       "      <td>0.076</td>\n",
       "      <td>-0.023</td>\n",
       "      <td>0.067</td>\n",
       "      <td>0.05</td>\n",
       "      <td>0.084</td>\n",
       "      <td>0.284</td>\n",
       "      <td>0.257</td>\n",
       "      <td>0.532</td>\n",
       "      <td>0.521</td>\n",
       "      <td>0.506</td>\n",
       "      <td>0.645</td>\n",
       "      <td>-</td>\n",
       "      <td>***</td>\n",
       "      <td>*</td>\n",
       "      <td></td>\n",
       "      <td></td>\n",
       "      <td></td>\n",
       "    </tr>\n",
       "    <tr>\n",
       "      <th>HRV_LFHF</th>\n",
       "      <td>0.086</td>\n",
       "      <td>0.132</td>\n",
       "      <td>0.06</td>\n",
       "      <td>0.056</td>\n",
       "      <td>-0.062</td>\n",
       "      <td>-0.295</td>\n",
       "      <td>-0.394</td>\n",
       "      <td>-0.604</td>\n",
       "      <td>-0.521</td>\n",
       "      <td>-0.478</td>\n",
       "      <td>0.104</td>\n",
       "      <td>-0.653</td>\n",
       "      <td>-</td>\n",
       "      <td>**</td>\n",
       "      <td></td>\n",
       "      <td></td>\n",
       "      <td></td>\n",
       "    </tr>\n",
       "    <tr>\n",
       "      <th>nb_peaks</th>\n",
       "      <td>-0.196</td>\n",
       "      <td>-0.255</td>\n",
       "      <td>-0.35</td>\n",
       "      <td>-0.379</td>\n",
       "      <td>-0.33</td>\n",
       "      <td>-0.327</td>\n",
       "      <td>-0.383</td>\n",
       "      <td>-0.488</td>\n",
       "      <td>-0.477</td>\n",
       "      <td>-0.408</td>\n",
       "      <td>-0.059</td>\n",
       "      <td>-0.296</td>\n",
       "      <td>0.467</td>\n",
       "      <td>-</td>\n",
       "      <td>***</td>\n",
       "      <td></td>\n",
       "      <td></td>\n",
       "    </tr>\n",
       "    <tr>\n",
       "      <th>mean_height</th>\n",
       "      <td>-0.037</td>\n",
       "      <td>0.023</td>\n",
       "      <td>0.234</td>\n",
       "      <td>0.2</td>\n",
       "      <td>0.068</td>\n",
       "      <td>-0.014</td>\n",
       "      <td>0.347</td>\n",
       "      <td>0.267</td>\n",
       "      <td>0.181</td>\n",
       "      <td>0.166</td>\n",
       "      <td>0.27</td>\n",
       "      <td>0.285</td>\n",
       "      <td>-0.14</td>\n",
       "      <td>-0.463</td>\n",
       "      <td>-</td>\n",
       "      <td>***</td>\n",
       "      <td>*</td>\n",
       "    </tr>\n",
       "    <tr>\n",
       "      <th>EDA_Symp</th>\n",
       "      <td>-0.234</td>\n",
       "      <td>-0.237</td>\n",
       "      <td>-0.062</td>\n",
       "      <td>-0.089</td>\n",
       "      <td>-0.163</td>\n",
       "      <td>-0.232</td>\n",
       "      <td>-0.018</td>\n",
       "      <td>-0.101</td>\n",
       "      <td>-0.201</td>\n",
       "      <td>-0.181</td>\n",
       "      <td>0.127</td>\n",
       "      <td>0.014</td>\n",
       "      <td>0.179</td>\n",
       "      <td>-0.06</td>\n",
       "      <td>0.616</td>\n",
       "      <td>-</td>\n",
       "      <td>***</td>\n",
       "    </tr>\n",
       "    <tr>\n",
       "      <th>EDA_SympN</th>\n",
       "      <td>0.073</td>\n",
       "      <td>0.08</td>\n",
       "      <td>0.245</td>\n",
       "      <td>0.192</td>\n",
       "      <td>0.122</td>\n",
       "      <td>-0.314</td>\n",
       "      <td>-0.233</td>\n",
       "      <td>-0.232</td>\n",
       "      <td>-0.31</td>\n",
       "      <td>-0.292</td>\n",
       "      <td>0.005</td>\n",
       "      <td>-0.075</td>\n",
       "      <td>0.132</td>\n",
       "      <td>0.068</td>\n",
       "      <td>0.232</td>\n",
       "      <td>0.531</td>\n",
       "      <td>-</td>\n",
       "    </tr>\n",
       "  </tbody>\n",
       "</table>\n",
       "</div>"
      ],
      "text/plain": [
       "            Hz_30_80 Hz_13_30 Hz_8_13  Hz_4_8  Hz_1_4 HRV_MeanNN HRV_SDNN  \\\n",
       "Hz_30_80           -      ***     ***     ***     ***          *            \n",
       "Hz_13_30       0.929        -     ***     ***     ***          *        *   \n",
       "Hz_8_13         0.49     0.65       -     ***     ***          *        *   \n",
       "Hz_4_8         0.402    0.554    0.96       -     ***          *        *   \n",
       "Hz_1_4         0.362    0.489   0.857   0.925       -                       \n",
       "HRV_MeanNN    -0.439   -0.447   -0.47  -0.453  -0.095          -      ***   \n",
       "HRV_SDNN      -0.372   -0.474  -0.471   -0.48  -0.027      0.627        -   \n",
       "HRV_RMSSD     -0.359   -0.463  -0.439  -0.422  -0.038      0.643    0.904   \n",
       "HRV_pNN50     -0.431   -0.502  -0.512   -0.48  -0.088      0.747     0.82   \n",
       "HRV_pNN20     -0.417   -0.456  -0.451  -0.438  -0.087       0.83    0.748   \n",
       "HRV_LF         -0.01   -0.027  -0.003  -0.054  -0.134      0.094   -0.017   \n",
       "HRV_HF         0.076   -0.023   0.067    0.05   0.084      0.284    0.257   \n",
       "HRV_LFHF       0.086    0.132    0.06   0.056  -0.062     -0.295   -0.394   \n",
       "nb_peaks      -0.196   -0.255   -0.35  -0.379   -0.33     -0.327   -0.383   \n",
       "mean_height   -0.037    0.023   0.234     0.2   0.068     -0.014    0.347   \n",
       "EDA_Symp      -0.234   -0.237  -0.062  -0.089  -0.163     -0.232   -0.018   \n",
       "EDA_SympN      0.073     0.08   0.245   0.192   0.122     -0.314   -0.233   \n",
       "\n",
       "            HRV_RMSSD HRV_pNN50 HRV_pNN20  HRV_LF  HRV_HF HRV_LFHF nb_peaks  \\\n",
       "Hz_30_80                      *         *                                     \n",
       "Hz_13_30            *        **         *                                     \n",
       "Hz_8_13             *        **         *                                 *   \n",
       "Hz_4_8              *         *         *                                 *   \n",
       "Hz_1_4                                                                    *   \n",
       "HRV_MeanNN        ***       ***       ***              **      ***        *   \n",
       "HRV_SDNN          ***       ***       ***              **      ***       **   \n",
       "HRV_RMSSD           -       ***       ***             ***      ***      ***   \n",
       "HRV_pNN50       0.901         -       ***       *     ***      ***      ***   \n",
       "HRV_pNN20       0.827     0.934         -       *     ***      ***       **   \n",
       "HRV_LF           0.14     0.183      0.21       -     ***                     \n",
       "HRV_HF          0.532     0.521     0.506   0.645       -      ***        *   \n",
       "HRV_LFHF       -0.604    -0.521    -0.478   0.104  -0.653        -       **   \n",
       "nb_peaks       -0.488    -0.477    -0.408  -0.059  -0.296    0.467        -   \n",
       "mean_height     0.267     0.181     0.166    0.27   0.285    -0.14   -0.463   \n",
       "EDA_Symp       -0.101    -0.201    -0.181   0.127   0.014    0.179    -0.06   \n",
       "EDA_SympN      -0.232     -0.31    -0.292   0.005  -0.075    0.132    0.068   \n",
       "\n",
       "            mean_height EDA_Symp EDA_SympN  \n",
       "Hz_30_80                                    \n",
       "Hz_13_30                                    \n",
       "Hz_8_13                                     \n",
       "Hz_4_8                                      \n",
       "Hz_1_4                                      \n",
       "HRV_MeanNN                               *  \n",
       "HRV_SDNN              *                     \n",
       "HRV_RMSSD                                   \n",
       "HRV_pNN50                                *  \n",
       "HRV_pNN20                                   \n",
       "HRV_LF                                      \n",
       "HRV_HF                                      \n",
       "HRV_LFHF                                    \n",
       "nb_peaks            ***                     \n",
       "mean_height           -      ***         *  \n",
       "EDA_Symp          0.616        -       ***  \n",
       "EDA_SympN         0.232    0.531         -  "
      ]
     },
     "execution_count": 15,
     "metadata": {},
     "output_type": "execute_result"
    }
   ],
   "source": [
    "all_metrics.rcorr('spearman')"
   ]
  },
  {
   "cell_type": "markdown",
   "id": "15103d69",
   "metadata": {},
   "source": [
    "Cerveau : \n",
    "- Delta & Theta vs Alpha vs Beta & Gamma\n",
    "\n",
    "Coeur : \n",
    "- Time : RMSSD & SDNN & pNN50 = same ?\n",
    "- Freq : LFHF anticorr avec time ? \n",
    "\n",
    "\n",
    "Cross :\n",
    "- Beta & Gamma varient à l'inverse de la variabilité cardiaque\n",
    "- LFHF corr à nb_peaks eda qui sont à l'inverse de variabilité cardiaque\n",
    "- Gamma & EDA_Symp anticorr\n"
   ]
  },
  {
   "cell_type": "code",
   "execution_count": 16,
   "id": "e364aa29",
   "metadata": {},
   "outputs": [
    {
     "data": {
      "text/plain": [
       "<seaborn.matrix.ClusterGrid at 0x7fbca5e8ad60>"
      ]
     },
     "execution_count": 16,
     "metadata": {},
     "output_type": "execute_result"
    },
    {
     "data": {
      "image/png": "[encoded data removed]",
      "text/plain": [
       "<Figure size 720x720 with 4 Axes>"
      ]
     },
     "metadata": {
      "needs_background": "light"
     },
     "output_type": "display_data"
    }
   ],
   "source": [
    "sns.clustermap(all_metrics.corr('pearson'))"
   ]
  },
  {
   "cell_type": "code",
   "execution_count": 17,
   "id": "a57c9014-e412-48d2-8712-38d632f03cf8",
   "metadata": {},
   "outputs": [],
   "source": [
    "ecg_metrics = load('ecg')"
   ]
  },
  {
   "cell_type": "code",
   "execution_count": 19,
   "id": "64557f1d-9d5d-4f90-8b56-2987228111f9",
   "metadata": {},
   "outputs": [
    {
     "data": {
      "text/plain": [
       "Text(0.5, 1.0, 'Effect of room on HRV_RMSSD : *** \\n N = 14 * 9 \\n friedman : p-0.0001')"
      ]
     },
     "execution_count": 19,
     "metadata": {},
     "output_type": "execute_result"
    },
    {
     "data": {
      "image/png": "[encoded data removed]",
      "text/plain": [
       "<Figure size 1440x720 with 1 Axes>"
      ]
     },
     "metadata": {
      "needs_background": "light"
     },
     "output_type": "display_data"
    },
    {
     "data": {
      "image/png": "[encoded data removed]",
      "text/plain": [
       "<Figure size 432x288 with 1 Axes>"
      ]
     },
     "metadata": {
      "needs_background": "light"
     },
     "output_type": "display_data"
    }
   ],
   "source": [
    "title = gh.auto_stats(df=ecg_metrics, predictor = 'room', outcome = 'HRV_RMSSD', subject = 'participant', transform = False).get_title()\n",
    "plt.close()\n",
    "\n",
    "fig, ax = plt.subplots(figsize = (20,10))\n",
    "sns.pointplot(data=ecg_metrics, x='room',y='HRV_RMSSD', ax=ax)\n",
    "ax.set_title(title)\n",
    "# plt.savefig('../figures/pointplot_rmssd')"
   ]
  },
  {
   "cell_type": "code",
   "execution_count": null,
   "id": "dbbad38b-a2a2-46fd-bc1d-30c9c7e52b13",
   "metadata": {
    "tags": []
   },
   "outputs": [],
   "source": [
    "for outcome in outcomes['ecg']:\n",
    "    \n",
    "    title = gh.auto_stats(df=ecg_metrics, predictor = 'room', outcome = outcome, subject = 'participant', transform = False).get_title()\n",
    "    plt.close()\n",
    "    \n",
    "    fig, ax = plt.subplots(figsize = (20,7))\n",
    "    sns.pointplot(x=\"room\", y=outcome, data=ecg_metrics, ax=ax)\n",
    "    ax.set_title(title)\n",
    "    plt.show()"
   ]
  },
  {
   "cell_type": "code",
   "execution_count": null,
   "id": "92abda6c-d3e3-4f2a-94d7-08481e295270",
   "metadata": {
    "tags": []
   },
   "outputs": [],
   "source": [
    "for biosig in ['eeg','ecg','eda']:\n",
    "    df = load(biosig)\n",
    "    loop_outcomes = outcomes[biosig]\n",
    "    fig, axs = plt.subplots(nrows = len(loop_outcomes), figsize = (20,40), constrained_layout = True)\n",
    "    fig.suptitle(f'{biosig}', fontsize = 20)\n",
    "    for row, outcome in enumerate(loop_outcomes):\n",
    "        ax = axs[row]\n",
    "        sns.pointplot(data=df , x=predictor , y = outcome, ax = ax)\n",
    "        ax.set_title(f'Effet of {predictor} on {outcome}')\n",
    "    if savefig:\n",
    "        plt.savefig(f'../stats/figs/boxplot_{biosig}')\n",
    "    plt.show()"
   ]
  },
  {
   "cell_type": "markdown",
   "id": "109d0c76",
   "metadata": {},
   "source": [
    "- Globalement les participants semblent quitter la visite dans le même état physiologique que dans lequel ils sont rentrés, notamment car end of the world rattrape les effets de savannah & canopy & underground qui ont stressés nos participants"
   ]
  },
  {
   "cell_type": "code",
   "execution_count": null,
   "id": "09c83c9b-bfc4-4799-b472-4592d1d42649",
   "metadata": {},
   "outputs": [],
   "source": [
    "def load_visit_effect(biosig):\n",
    "    df = pd.read_excel(f'../metrics/{biosig}_metrics_visit.xlsx').drop(columns = 'Unnamed: 0')\n",
    "    if biosig == 'eeg': # mean both sides\n",
    "        df = df.set_index(['participant','epoch'])\n",
    "        df_right = df[df['chan'] == 'EEGR']\n",
    "        df_left = df[df['chan'] == 'EEGL']\n",
    "        data_right = df_right.drop(columns='chan').values\n",
    "        data_left = df_left.drop(columns='chan').values\n",
    "        \n",
    "        mean_electrodes = (data_right + data_left) / 2\n",
    "        \n",
    "        df = pd.DataFrame(data=mean_electrodes, columns = ['Hz_30_80','Hz_13_30','Hz_8_13','Hz_4_8','Hz_1_4'], index=df_right.index).reset_index()\n",
    "        # df['room'] = df_right['room']\n",
    "        # df['participant'] = df_right['participant']\n",
    "        \n",
    "    df_return = df\n",
    "    return df_return"
   ]
  },
  {
   "cell_type": "code",
   "execution_count": null,
   "id": "735d0ecd-1fed-45db-a672-1edc584c1450",
   "metadata": {},
   "outputs": [],
   "source": [
    "for biosig in ['ecg','eeg','eda']:\n",
    "    fig, axs = plt.subplots(ncols = len(outcomes[biosig]), figsize = (30,5), constrained_layout = True)\n",
    "    for col, outcome in enumerate(outcomes[biosig]):\n",
    "        ax = axs[col]\n",
    "        gh.auto_stats(df=load_visit_effect(biosig), predictor = 'epoch' , outcome = outcome, design = 'within', ax=ax)"
   ]
  },
  {
   "cell_type": "markdown",
   "id": "1643ea80-52c6-4891-b57b-603d67242cca",
   "metadata": {},
   "source": [
    "Sujets + relaxés en fin qu'en début (15 min window) car + HRV (+ SDNN & pNN50) en fin qu'en début et - EDA peaks en fin qu'en début"
   ]
  },
  {
   "cell_type": "code",
   "execution_count": null,
   "id": "b5056443-b64f-44b4-a1f9-c9da262f6af4",
   "metadata": {},
   "outputs": [],
   "source": [
    "load_visit_effect('ecg').groupby('epoch').median()"
   ]
  },
  {
   "cell_type": "code",
   "execution_count": null,
   "id": "c801572a-2305-4908-a751-29d366d8b229",
   "metadata": {},
   "outputs": [],
   "source": [
    "fig , axs = plt.subplots(ncols = 2, figsize = (10,5) , constrained_layout = True)\n",
    "fig.suptitle('Global effect of Sensory Odyssey visit on Heart Rate Variability', fontsize = 17, y = 1.1)\n",
    "for col, metric in enumerate(['HRV_SDNN','HRV_pNN50']):\n",
    "    ax = axs[col]\n",
    "    gh.auto_stats(df=load_visit_effect('ecg'), predictor = 'epoch' , outcome = metric, design = 'within', ax=ax, transform = True)\n",
    "\n",
    "if savefig:\n",
    "    plt.savefig('../figures/hrv_stats', bbox_inches = 'tight')"
   ]
  },
  {
   "cell_type": "code",
   "execution_count": null,
   "id": "f3217d52-36ae-4f69-a955-79c7f34e827c",
   "metadata": {},
   "outputs": [],
   "source": [
    "\n",
    "title = gh.auto_stats(df=ecg_metrics, predictor = 'room', outcome = 'HRV_pNN50', subject = 'participant', transform = False).get_title()\n",
    "plt.close()\n",
    "\n",
    "fig, ax = plt.subplots(figsize = (10,5))\n",
    "fig.suptitle('Room detailed effect of Sensory Odyssey visit on Heart Rate Variability', fontsize = 17, y = 1.1)\n",
    "sns.pointplot(data=ecg_metrics, x='room',y='HRV_pNN50', ax=ax)\n",
    "ax.set_title(title)\n",
    "if savefig:\n",
    "    plt.savefig('../figures/room_hrv_stats', bbox_inches = 'tight')"
   ]
  },
  {
   "cell_type": "code",
   "execution_count": null,
   "id": "ec832680-d850-4cf6-9ea4-3ad775021fdf",
   "metadata": {},
   "outputs": [],
   "source": []
  },
  {
   "cell_type": "code",
   "execution_count": null,
   "id": "811abbaa-bb3b-4b49-866e-53fd61bbe59a",
   "metadata": {},
   "outputs": [],
   "source": []
  },
  {
   "cell_type": "code",
   "execution_count": null,
   "id": "7fe62b1b-bb0c-4869-88f7-753cd02cb136",
   "metadata": {},
   "outputs": [],
   "source": []
  }
 ],
 "metadata": {
  "kernelspec": {
   "display_name": "Python 3 (ipykernel)",
   "language": "python",
   "name": "python3"
  },
  "language_info": {
   "codemirror_mode": {
    "name": "ipython",
    "version": 3
   },
   "file_extension": ".py",
   "mimetype": "text/x-python",
   "name": "python",
   "nbconvert_exporter": "python",
   "pygments_lexer": "ipython3",
   "version": "3.8.12"
  },
  "vscode": {
   "interpreter": {
    "hash": "4bd70bb5ed2fb7582dd19992bfd207be77cacf780be7966dbdb042214aeb5dc8"
   }
  }
 },
 "nbformat": 4,
 "nbformat_minor": 5
}
