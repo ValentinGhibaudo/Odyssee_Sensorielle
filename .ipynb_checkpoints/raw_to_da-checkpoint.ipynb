{
 "cells": [
  {
   "cell_type": "code",
   "execution_count": 1,
   "id": "f4ef6d6a-a776-4397-a528-b48c556ab92d",
   "metadata": {},
   "outputs": [],
   "source": [
    "import numpy as np\n",
    "import pandas as pd\n",
    "import json\n",
    "import matplotlib.pyplot as plt\n",
    "import glob\n",
    "import xarray as xr\n",
    "from params import participants\n",
    "import os\n",
    "%matplotlib inline\n",
    "# %matplotlib widget"
   ]
  },
  {
   "cell_type": "code",
   "execution_count": 2,
   "id": "f8620f15",
   "metadata": {},
   "outputs": [
    {
     "data": {
      "text/plain": [
       "['P01PPILNI',\n",
       " 'P03PBABCO',\n",
       " 'P05PROZEM',\n",
       " 'P07GHOLE',\n",
       " 'P08AKKOR',\n",
       " 'P10LEVVA',\n",
       " 'P11KERSA',\n",
       " 'P12BOULI',\n",
       " 'P14BENLA',\n",
       " 'P15LEPMA',\n",
       " 'P16MAUAD',\n",
       " 'P17ETRPA',\n",
       " 'P19MONAL',\n",
       " 'P20POUAX',\n",
       " 'P21LIYAT',\n",
       " 'P22DALPI',\n",
       " 'P25PEIAN',\n",
       " 'P27OSTMA',\n",
       " 'P28JUDGU',\n",
       " 'P30BATDI']"
      ]
     },
     "execution_count": 2,
     "metadata": {},
     "output_type": "execute_result"
    }
   ],
   "source": [
    "participants"
   ]
  },
  {
   "cell_type": "code",
   "execution_count": 3,
   "id": "e2b22e66-a7b8-4345-b9d5-75234ee68154",
   "metadata": {},
   "outputs": [
    {
     "data": {
      "text/plain": [
       "20"
      ]
     },
     "execution_count": 3,
     "metadata": {},
     "output_type": "execute_result"
    }
   ],
   "source": [
    "len(participants)"
   ]
  },
  {
   "cell_type": "code",
   "execution_count": 5,
   "id": "86ba5b64-8557-4499-930c-bed39a6d73c7",
   "metadata": {},
   "outputs": [],
   "source": [
    "def raw_to_da(participant): # from raw data to one xarray by participant\n",
    "    \n",
    "    if not os.path.exists(f'../data_in_da/da_{participant}.nc'):\n",
    "        print(participant)\n",
    "        input_file = glob.glob(f\"../data/{participant}/*/*.TXT\")[0]\n",
    "        with open(input_file, \"r\") as file:\n",
    "            for i in range(2):\n",
    "                line = file.readline()\n",
    "        header = json.loads(line[1:])\n",
    "        meta = header[next(iter(header))]\n",
    "        srate = meta['sampling rate']\n",
    "        print('srate :', srate)\n",
    "        data = np.loadtxt(input_file).T\n",
    "        print(data.shape)\n",
    "\n",
    "        if data.shape[0] > 9: # some participants don't have the 5 chans\n",
    "            eegL = data[5] # A1\n",
    "            eegR = data[6] # A2\n",
    "            ecg  = data[7] # A3\n",
    "            eda  = data[8] # A4\n",
    "            ppg  = data[9] # A5\n",
    "        else: \n",
    "            eegL = data[5] # A1\n",
    "            eegR = data[6] # A2\n",
    "            ecg  = data[7] # A3\n",
    "            eda  = data[8] # A4\n",
    "            ppg  = np.zeros((data.shape[1])) # A5 \n",
    "\n",
    "        data_to_array = [eegL , eegR, ecg , eda , ppg]\n",
    "        time = np.arange(0 , eegL.size / srate,  1 / srate)\n",
    "        dtypes = ['EEGL','EEGR','ECG','EDA','PPG']\n",
    "        da = xr.DataArray(data=data_to_array, dims = ['dtype','time'], coords = {'dtype':dtypes, 'time':time}) # xarray 2D (data_type * time)\n",
    "        da.to_netcdf(f'../data_in_da/da_{participant}.nc')\n",
    "    else:\n",
    "        print(f'{participant} already computed')"
   ]
  },
  {
   "cell_type": "code",
   "execution_count": 6,
   "id": "0f2511e4-2d61-4c46-8241-7a7eed233b08",
   "metadata": {
    "tags": []
   },
   "outputs": [
    {
     "name": "stdout",
     "output_type": "stream",
     "text": [
      "P01PPILNI already computed\n",
      "P03PBABCO already computed\n",
      "P05PROZEM already computed\n",
      "P07GHOLE already computed\n",
      "P08AKKOR already computed\n",
      "P10LEVVA already computed\n",
      "P11KERSA already computed\n",
      "P12BOULI\n",
      "srate : 1000\n",
      "(11, 7580000)\n",
      "P14BENLA already computed\n",
      "P15LEPMA already computed\n",
      "P16MAUAD already computed\n",
      "P17ETRPA already computed\n",
      "P19MONAL already computed\n",
      "P20POUAX already computed\n",
      "P21LIYAT already computed\n",
      "P22DALPI already computed\n",
      "P25PEIAN already computed\n",
      "P27OSTMA already computed\n",
      "P28JUDGU already computed\n",
      "P30BATDI already computed\n"
     ]
    }
   ],
   "source": [
    "for participant in participants:\n",
    "    da = raw_to_da(participant, save=save)"
   ]
  },
  {
   "cell_type": "code",
   "execution_count": null,
   "id": "2b12141a-a615-4a62-a7ca-d790fb7fc971",
   "metadata": {},
   "outputs": [],
   "source": []
  }
 ],
 "metadata": {
  "kernelspec": {
   "display_name": "Python 3 (ipykernel)",
   "language": "python",
   "name": "python3"
  },
  "language_info": {
   "codemirror_mode": {
    "name": "ipython",
    "version": 3
   },
   "file_extension": ".py",
   "mimetype": "text/x-python",
   "name": "python",
   "nbconvert_exporter": "python",
   "pygments_lexer": "ipython3",
   "version": "3.8.12"
  },
  "vscode": {
   "interpreter": {
    "hash": "4bd70bb5ed2fb7582dd19992bfd207be77cacf780be7966dbdb042214aeb5dc8"
   }
  }
 },
 "nbformat": 4,
 "nbformat_minor": 5
}
