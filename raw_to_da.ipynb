{
 "cells": [
  {
   "cell_type": "code",
   "execution_count": 1,
   "id": "f4ef6d6a-a776-4397-a528-b48c556ab92d",
   "metadata": {},
   "outputs": [],
   "source": [
    "import numpy as np\n",
    "import pandas as pd\n",
    "import json\n",
    "import matplotlib.pyplot as plt\n",
    "import glob\n",
    "import xarray as xr\n",
    "%matplotlib inline\n",
    "# %matplotlib widget"
   ]
  },
  {
   "cell_type": "code",
   "execution_count": 2,
   "id": "1e618efd-6d7b-468e-bbcc-d9077ce10cf3",
   "metadata": {},
   "outputs": [],
   "source": [
    "# loop = False\n",
    "loop = True"
   ]
  },
  {
   "cell_type": "code",
   "execution_count": 3,
   "id": "b0dd5b09-4583-4114-9b70-8e5b1661e8b7",
   "metadata": {},
   "outputs": [],
   "source": [
    "# participant = 'GHIVA02_2'\n",
    "# participant = 'MONLI03_3'\n",
    "participant = 'PERSA01_1'"
   ]
  },
  {
   "cell_type": "code",
   "execution_count": 4,
   "id": "7402176e-c7e9-40ce-a768-0af0f7027097",
   "metadata": {},
   "outputs": [],
   "source": [
    "participants = ['GHIVA02_2','MONLI03_3','PERSA01_1']"
   ]
  },
  {
   "cell_type": "code",
   "execution_count": 5,
   "id": "86ba5b64-8557-4499-930c-bed39a6d73c7",
   "metadata": {},
   "outputs": [],
   "source": [
    "def raw_to_da(participant, save = False):\n",
    "    input_file = glob.glob(f\"../data/{participant}/*.TXT\")[0]\n",
    "    with open(input_file, \"r\") as file:\n",
    "        for i in range(2):\n",
    "            line = file.readline()\n",
    "    header = json.loads(line[1:])\n",
    "    meta = header[next(iter(header))]\n",
    "    srate = meta['sampling rate']\n",
    "    data = np.loadtxt(input_file).T\n",
    "    eegL = data[5] # A1\n",
    "    eegR = data[6] # A2\n",
    "    ecg  = data[7] # A3\n",
    "    eda  = data[8] # A4\n",
    "    ppg  = data[9] # A5\n",
    "    \n",
    "    data_to_array = [eegL , eegR, ecg , eda , ppg]\n",
    "    time = np.arange(0 , eegL.size / srate,  1 / srate)\n",
    "    dtypes = ['EEGL','EEGR','ECG','EDA','PPG']\n",
    "    da = xr.DataArray(data=data_to_array, dims = ['dtype','time'], coords = {'dtype':dtypes, 'time':time})\n",
    "    if save:\n",
    "        da.to_netcdf(f'../data_in_da/da_{participant}.nc')\n",
    "    return da"
   ]
  },
  {
   "cell_type": "code",
   "execution_count": 7,
   "id": "0f2511e4-2d61-4c46-8241-7a7eed233b08",
   "metadata": {},
   "outputs": [
    {
     "name": "stdout",
     "output_type": "stream",
     "text": [
      "GHIVA02_2\n",
      "MONLI03_3\n",
      "PERSA01_1\n"
     ]
    }
   ],
   "source": [
    "if loop:\n",
    "    for participant in participants:\n",
    "        print(participant)\n",
    "        da = raw_to_da(participant, save=True)"
   ]
  },
  {
   "cell_type": "code",
   "execution_count": null,
   "id": "2b12141a-a615-4a62-a7ca-d790fb7fc971",
   "metadata": {},
   "outputs": [],
   "source": []
  }
 ],
 "metadata": {
  "kernelspec": {
   "display_name": "Python 3 (ipykernel)",
   "language": "python",
   "name": "python3"
  },
  "language_info": {
   "codemirror_mode": {
    "name": "ipython",
    "version": 3
   },
   "file_extension": ".py",
   "mimetype": "text/x-python",
   "name": "python",
   "nbconvert_exporter": "python",
   "pygments_lexer": "ipython3",
   "version": "3.8.12"
  }
 },
 "nbformat": 4,
 "nbformat_minor": 5
}
