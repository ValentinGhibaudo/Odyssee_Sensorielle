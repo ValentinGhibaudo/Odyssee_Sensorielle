{
 "cells": [
  {
   "cell_type": "code",
   "execution_count": 1,
   "id": "f4ef6d6a-a776-4397-a528-b48c556ab92d",
   "metadata": {},
   "outputs": [],
   "source": [
    "import numpy as np\n",
    "import pandas as pd\n",
    "import json\n",
    "import matplotlib.pyplot as plt\n",
    "import glob\n",
    "import xarray as xr\n",
    "from params import participants\n",
    "%matplotlib inline\n",
    "# %matplotlib widget"
   ]
  },
  {
   "cell_type": "code",
   "execution_count": 2,
   "id": "f8620f15",
   "metadata": {},
   "outputs": [
    {
     "data": {
      "text/plain": [
       "['P21LIYAT', 'P24BELCL', 'P25PEIAN', 'P27OSTMA', 'P28JUDGU', 'P30BATDI']"
      ]
     },
     "execution_count": 2,
     "metadata": {},
     "output_type": "execute_result"
    }
   ],
   "source": [
    "participants"
   ]
  },
  {
   "cell_type": "code",
   "execution_count": 3,
   "id": "1e618efd-6d7b-468e-bbcc-d9077ce10cf3",
   "metadata": {},
   "outputs": [],
   "source": [
    "save = True"
   ]
  },
  {
   "cell_type": "code",
   "execution_count": 4,
   "id": "86ba5b64-8557-4499-930c-bed39a6d73c7",
   "metadata": {},
   "outputs": [],
   "source": [
    "def raw_to_da(participant, save = False): # from raw data to one xarray by participant\n",
    "    print(participant)\n",
    "    input_file = glob.glob(f\"../data/{participant}/*/*.TXT\")[0]\n",
    "    with open(input_file, \"r\") as file:\n",
    "        for i in range(2):\n",
    "            line = file.readline()\n",
    "    header = json.loads(line[1:])\n",
    "    meta = header[next(iter(header))]\n",
    "    srate = meta['sampling rate']\n",
    "    print('srate :', srate)\n",
    "    data = np.loadtxt(input_file).T\n",
    "    print(data.shape)\n",
    "\n",
    "    if data.shape[0] > 9: # some participants don't have the 5 chans\n",
    "        eegL = data[5] # A1\n",
    "        eegR = data[6] # A2\n",
    "        ecg  = data[7] # A3\n",
    "        eda  = data[8] # A4\n",
    "        ppg  = data[9] # A5\n",
    "    else: \n",
    "        eegL = data[5] # A1\n",
    "        eegR = data[6] # A2\n",
    "        ecg  = data[7] # A3\n",
    "        eda  = data[8] # A4\n",
    "        ppg  = np.zeros((data.shape[1])) # A5 \n",
    "    \n",
    "    data_to_array = [eegL , eegR, ecg , eda , ppg]\n",
    "    time = np.arange(0 , eegL.size / srate,  1 / srate)\n",
    "    dtypes = ['EEGL','EEGR','ECG','EDA','PPG']\n",
    "    da = xr.DataArray(data=data_to_array, dims = ['dtype','time'], coords = {'dtype':dtypes, 'time':time}) # xarray 2D (data_type * time)\n",
    "    if save:\n",
    "        da.to_netcdf(f'../data_in_da/da_{participant}.nc')\n",
    "    return da"
   ]
  },
  {
   "cell_type": "code",
   "execution_count": 5,
   "id": "0f2511e4-2d61-4c46-8241-7a7eed233b08",
   "metadata": {
    "tags": []
   },
   "outputs": [
    {
     "name": "stdout",
     "output_type": "stream",
     "text": [
      "P21LIYAT\n",
      "srate : 1000\n",
      "(11, 4677000)\n",
      "P24BELCL\n",
      "srate : 1000\n",
      "(11, 4239000)\n",
      "P25PEIAN\n",
      "srate : 1000\n",
      "(11, 5152004)\n",
      "P27OSTMA\n",
      "srate : 1000\n",
      "(11, 4677000)\n",
      "P28JUDGU\n",
      "srate : 1000\n",
      "(11, 3940000)\n",
      "P30BATDI\n",
      "srate : 1000\n",
      "(11, 4239000)\n"
     ]
    }
   ],
   "source": [
    "for participant in participants:\n",
    "    da = raw_to_da(participant, save=save)\n",
    "    del da"
   ]
  },
  {
   "cell_type": "code",
   "execution_count": null,
   "id": "2b12141a-a615-4a62-a7ca-d790fb7fc971",
   "metadata": {},
   "outputs": [],
   "source": []
  }
 ],
 "metadata": {
  "interpreter": {
   "hash": "d52a80d0a0e97798877358acff9606e3dcdb319e00eb72e95f38484cef8b785d"
  },
  "kernelspec": {
   "display_name": "Python 3 (ipykernel)",
   "language": "python",
   "name": "python3"
  },
  "language_info": {
   "codemirror_mode": {
    "name": "ipython",
    "version": 3
   },
   "file_extension": ".py",
   "mimetype": "text/x-python",
   "name": "python",
   "nbconvert_exporter": "python",
   "pygments_lexer": "ipython3",
   "version": "3.8.12"
  }
 },
 "nbformat": 4,
 "nbformat_minor": 5
}
